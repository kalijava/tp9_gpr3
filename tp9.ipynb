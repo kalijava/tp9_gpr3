{
 "cells": [
  {
   "cell_type": "markdown",
   "id": "1d3977c6",
   "metadata": {},
   "source": [
    "## tp_9 consigne:realiser le feature engineering ,appliquer un modele de machine learning\n",
    "## tp_9 realiser par kamga fotso francis"
   ]
  },
  {
   "cell_type": "code",
   "execution_count": 219,
   "id": "defdd995",
   "metadata": {},
   "outputs": [],
   "source": [
    "## importations des bibliotheques"
   ]
  },
  {
   "cell_type": "code",
   "execution_count": 1,
   "id": "159bc2b5",
   "metadata": {},
   "outputs": [],
   "source": [
    "import numpy as np\n",
    "import pandas as pd\n",
    "import matplotlib.pyplot as plt\n",
    "import seaborn as sns\n",
    "from sklearn.model_selection import train_test_split\n",
    "from sklearn.linear_model import LogisticRegression\n",
    "#importation des differentes metrics\n",
    "from sklearn.metrics import accuracy_score,confusion_matrix,classification_report\n",
    "#import nearmiss(pour faire undersample\n",
    "from imblearn.under_sampling import NearMiss\n",
    "# Construire le classificateur de forêt aléatoire (RANDOM FOREST)\n",
    "from sklearn.ensemble import RandomForestClassifier\n",
    "#import randomOversample pour faire oversample\n",
    "from imblearn.over_sampling import RandomOverSampler\n",
    "#pour selectionner nos feature\n",
    "from mlxtend.feature_selection import SequentialFeatureSelector as sfs\n",
    "from sklearn import svm\n",
    "from sklearn.naive_bayes import GaussianNB\n",
    "from sklearn.tree import DecisionTreeClassifier\n",
    "from sklearn.model_selection import GridSearchCV\n",
    "from sklearn.preprocessing import StandardScaler"
   ]
  },
  {
   "cell_type": "markdown",
   "id": "9206d3ed",
   "metadata": {},
   "source": [
    "## Feature Engineering\n"
   ]
  },
  {
   "cell_type": "code",
   "execution_count": 3,
   "id": "36a342d9",
   "metadata": {},
   "outputs": [
    {
     "data": {
      "text/html": [
       "<div>\n",
       "<style scoped>\n",
       "    .dataframe tbody tr th:only-of-type {\n",
       "        vertical-align: middle;\n",
       "    }\n",
       "\n",
       "    .dataframe tbody tr th {\n",
       "        vertical-align: top;\n",
       "    }\n",
       "\n",
       "    .dataframe thead th {\n",
       "        text-align: right;\n",
       "    }\n",
       "</style>\n",
       "<table border=\"1\" class=\"dataframe\">\n",
       "  <thead>\n",
       "    <tr style=\"text-align: right;\">\n",
       "      <th></th>\n",
       "      <th>Pregnancies</th>\n",
       "      <th>Glucose</th>\n",
       "      <th>BloodPressure</th>\n",
       "      <th>SkinThickness</th>\n",
       "      <th>Insulin</th>\n",
       "      <th>BMI</th>\n",
       "      <th>DiabetesPedigreeFunction</th>\n",
       "      <th>Age</th>\n",
       "      <th>Outcome</th>\n",
       "    </tr>\n",
       "  </thead>\n",
       "  <tbody>\n",
       "    <tr>\n",
       "      <th>0</th>\n",
       "      <td>6</td>\n",
       "      <td>148</td>\n",
       "      <td>72</td>\n",
       "      <td>35</td>\n",
       "      <td>0</td>\n",
       "      <td>33.6</td>\n",
       "      <td>0.627</td>\n",
       "      <td>50</td>\n",
       "      <td>1</td>\n",
       "    </tr>\n",
       "    <tr>\n",
       "      <th>1</th>\n",
       "      <td>1</td>\n",
       "      <td>85</td>\n",
       "      <td>66</td>\n",
       "      <td>29</td>\n",
       "      <td>0</td>\n",
       "      <td>26.6</td>\n",
       "      <td>0.351</td>\n",
       "      <td>31</td>\n",
       "      <td>0</td>\n",
       "    </tr>\n",
       "    <tr>\n",
       "      <th>2</th>\n",
       "      <td>8</td>\n",
       "      <td>183</td>\n",
       "      <td>64</td>\n",
       "      <td>0</td>\n",
       "      <td>0</td>\n",
       "      <td>23.3</td>\n",
       "      <td>0.672</td>\n",
       "      <td>32</td>\n",
       "      <td>1</td>\n",
       "    </tr>\n",
       "    <tr>\n",
       "      <th>3</th>\n",
       "      <td>1</td>\n",
       "      <td>89</td>\n",
       "      <td>66</td>\n",
       "      <td>23</td>\n",
       "      <td>94</td>\n",
       "      <td>28.1</td>\n",
       "      <td>0.167</td>\n",
       "      <td>21</td>\n",
       "      <td>0</td>\n",
       "    </tr>\n",
       "    <tr>\n",
       "      <th>4</th>\n",
       "      <td>0</td>\n",
       "      <td>137</td>\n",
       "      <td>40</td>\n",
       "      <td>35</td>\n",
       "      <td>168</td>\n",
       "      <td>43.1</td>\n",
       "      <td>2.288</td>\n",
       "      <td>33</td>\n",
       "      <td>1</td>\n",
       "    </tr>\n",
       "  </tbody>\n",
       "</table>\n",
       "</div>"
      ],
      "text/plain": [
       "   Pregnancies  Glucose  BloodPressure  SkinThickness  Insulin   BMI  \\\n",
       "0            6      148             72             35        0  33.6   \n",
       "1            1       85             66             29        0  26.6   \n",
       "2            8      183             64              0        0  23.3   \n",
       "3            1       89             66             23       94  28.1   \n",
       "4            0      137             40             35      168  43.1   \n",
       "\n",
       "   DiabetesPedigreeFunction  Age  Outcome  \n",
       "0                     0.627   50        1  \n",
       "1                     0.351   31        0  \n",
       "2                     0.672   32        1  \n",
       "3                     0.167   21        0  \n",
       "4                     2.288   33        1  "
      ]
     },
     "execution_count": 3,
     "metadata": {},
     "output_type": "execute_result"
    }
   ],
   "source": [
    "#chargement de notre dataset\n",
    "\n",
    "\n",
    "data=pd.read_csv(\"diabetes.csv\")\n",
    "data1=data.copy()\n",
    "\n",
    "# affichage des 05 premiers enregistrements\n",
    "data.head()"
   ]
  },
  {
   "cell_type": "code",
   "execution_count": 4,
   "id": "9b87e0da",
   "metadata": {},
   "outputs": [
    {
     "name": "stdout",
     "output_type": "stream",
     "text": [
      "la dimension de notre dataset est (768, 9)\n"
     ]
    }
   ],
   "source": [
    "#affichage des dimensions de notre dataset\n",
    "print(\"la dimension de notre dataset est\",data.shape)\n",
    "#notre dataset possede 768 observation et 9 features"
   ]
  },
  {
   "cell_type": "code",
   "execution_count": 5,
   "id": "d5e702b3",
   "metadata": {},
   "outputs": [
    {
     "name": "stdout",
     "output_type": "stream",
     "text": [
      "<class 'pandas.core.frame.DataFrame'>\n",
      "RangeIndex: 768 entries, 0 to 767\n",
      "Data columns (total 9 columns):\n",
      " #   Column                    Non-Null Count  Dtype  \n",
      "---  ------                    --------------  -----  \n",
      " 0   Pregnancies               768 non-null    int64  \n",
      " 1   Glucose                   768 non-null    int64  \n",
      " 2   BloodPressure             768 non-null    int64  \n",
      " 3   SkinThickness             768 non-null    int64  \n",
      " 4   Insulin                   768 non-null    int64  \n",
      " 5   BMI                       768 non-null    float64\n",
      " 6   DiabetesPedigreeFunction  768 non-null    float64\n",
      " 7   Age                       768 non-null    int64  \n",
      " 8   Outcome                   768 non-null    int64  \n",
      "dtypes: float64(2), int64(7)\n",
      "memory usage: 54.1 KB\n"
     ]
    }
   ],
   "source": [
    "# affichage de quelques infomations sur notre dataset\n",
    "data.info()\n",
    "# ici on constate que notre dataset ne contient pas de valeur manquante\n",
    "#notre dataset comporte que des numerical_value\n"
   ]
  },
  {
   "cell_type": "code",
   "execution_count": 6,
   "id": "24f18b97",
   "metadata": {},
   "outputs": [
    {
     "data": {
      "text/html": [
       "<div>\n",
       "<style scoped>\n",
       "    .dataframe tbody tr th:only-of-type {\n",
       "        vertical-align: middle;\n",
       "    }\n",
       "\n",
       "    .dataframe tbody tr th {\n",
       "        vertical-align: top;\n",
       "    }\n",
       "\n",
       "    .dataframe thead th {\n",
       "        text-align: right;\n",
       "    }\n",
       "</style>\n",
       "<table border=\"1\" class=\"dataframe\">\n",
       "  <thead>\n",
       "    <tr style=\"text-align: right;\">\n",
       "      <th></th>\n",
       "      <th>Pregnancies</th>\n",
       "      <th>Glucose</th>\n",
       "      <th>BloodPressure</th>\n",
       "      <th>SkinThickness</th>\n",
       "      <th>Insulin</th>\n",
       "      <th>BMI</th>\n",
       "      <th>DiabetesPedigreeFunction</th>\n",
       "      <th>Age</th>\n",
       "      <th>Outcome</th>\n",
       "    </tr>\n",
       "  </thead>\n",
       "  <tbody>\n",
       "    <tr>\n",
       "      <th>count</th>\n",
       "      <td>768.000000</td>\n",
       "      <td>768.000000</td>\n",
       "      <td>768.000000</td>\n",
       "      <td>768.000000</td>\n",
       "      <td>768.000000</td>\n",
       "      <td>768.000000</td>\n",
       "      <td>768.000000</td>\n",
       "      <td>768.000000</td>\n",
       "      <td>768.000000</td>\n",
       "    </tr>\n",
       "    <tr>\n",
       "      <th>mean</th>\n",
       "      <td>3.845052</td>\n",
       "      <td>120.894531</td>\n",
       "      <td>69.105469</td>\n",
       "      <td>20.536458</td>\n",
       "      <td>79.799479</td>\n",
       "      <td>31.992578</td>\n",
       "      <td>0.471876</td>\n",
       "      <td>33.240885</td>\n",
       "      <td>0.348958</td>\n",
       "    </tr>\n",
       "    <tr>\n",
       "      <th>std</th>\n",
       "      <td>3.369578</td>\n",
       "      <td>31.972618</td>\n",
       "      <td>19.355807</td>\n",
       "      <td>15.952218</td>\n",
       "      <td>115.244002</td>\n",
       "      <td>7.884160</td>\n",
       "      <td>0.331329</td>\n",
       "      <td>11.760232</td>\n",
       "      <td>0.476951</td>\n",
       "    </tr>\n",
       "    <tr>\n",
       "      <th>min</th>\n",
       "      <td>0.000000</td>\n",
       "      <td>0.000000</td>\n",
       "      <td>0.000000</td>\n",
       "      <td>0.000000</td>\n",
       "      <td>0.000000</td>\n",
       "      <td>0.000000</td>\n",
       "      <td>0.078000</td>\n",
       "      <td>21.000000</td>\n",
       "      <td>0.000000</td>\n",
       "    </tr>\n",
       "    <tr>\n",
       "      <th>25%</th>\n",
       "      <td>1.000000</td>\n",
       "      <td>99.000000</td>\n",
       "      <td>62.000000</td>\n",
       "      <td>0.000000</td>\n",
       "      <td>0.000000</td>\n",
       "      <td>27.300000</td>\n",
       "      <td>0.243750</td>\n",
       "      <td>24.000000</td>\n",
       "      <td>0.000000</td>\n",
       "    </tr>\n",
       "    <tr>\n",
       "      <th>50%</th>\n",
       "      <td>3.000000</td>\n",
       "      <td>117.000000</td>\n",
       "      <td>72.000000</td>\n",
       "      <td>23.000000</td>\n",
       "      <td>30.500000</td>\n",
       "      <td>32.000000</td>\n",
       "      <td>0.372500</td>\n",
       "      <td>29.000000</td>\n",
       "      <td>0.000000</td>\n",
       "    </tr>\n",
       "    <tr>\n",
       "      <th>75%</th>\n",
       "      <td>6.000000</td>\n",
       "      <td>140.250000</td>\n",
       "      <td>80.000000</td>\n",
       "      <td>32.000000</td>\n",
       "      <td>127.250000</td>\n",
       "      <td>36.600000</td>\n",
       "      <td>0.626250</td>\n",
       "      <td>41.000000</td>\n",
       "      <td>1.000000</td>\n",
       "    </tr>\n",
       "    <tr>\n",
       "      <th>max</th>\n",
       "      <td>17.000000</td>\n",
       "      <td>199.000000</td>\n",
       "      <td>122.000000</td>\n",
       "      <td>99.000000</td>\n",
       "      <td>846.000000</td>\n",
       "      <td>67.100000</td>\n",
       "      <td>2.420000</td>\n",
       "      <td>81.000000</td>\n",
       "      <td>1.000000</td>\n",
       "    </tr>\n",
       "  </tbody>\n",
       "</table>\n",
       "</div>"
      ],
      "text/plain": [
       "       Pregnancies     Glucose  BloodPressure  SkinThickness     Insulin  \\\n",
       "count   768.000000  768.000000     768.000000     768.000000  768.000000   \n",
       "mean      3.845052  120.894531      69.105469      20.536458   79.799479   \n",
       "std       3.369578   31.972618      19.355807      15.952218  115.244002   \n",
       "min       0.000000    0.000000       0.000000       0.000000    0.000000   \n",
       "25%       1.000000   99.000000      62.000000       0.000000    0.000000   \n",
       "50%       3.000000  117.000000      72.000000      23.000000   30.500000   \n",
       "75%       6.000000  140.250000      80.000000      32.000000  127.250000   \n",
       "max      17.000000  199.000000     122.000000      99.000000  846.000000   \n",
       "\n",
       "              BMI  DiabetesPedigreeFunction         Age     Outcome  \n",
       "count  768.000000                768.000000  768.000000  768.000000  \n",
       "mean    31.992578                  0.471876   33.240885    0.348958  \n",
       "std      7.884160                  0.331329   11.760232    0.476951  \n",
       "min      0.000000                  0.078000   21.000000    0.000000  \n",
       "25%     27.300000                  0.243750   24.000000    0.000000  \n",
       "50%     32.000000                  0.372500   29.000000    0.000000  \n",
       "75%     36.600000                  0.626250   41.000000    1.000000  \n",
       "max     67.100000                  2.420000   81.000000    1.000000  "
      ]
     },
     "execution_count": 6,
     "metadata": {},
     "output_type": "execute_result"
    }
   ],
   "source": [
    "#descriptions des donnees\n",
    "data.describe()\n",
    "#les moyennes de nos features varie entre 0.34 et 120.89\n",
    "#les ecart types de nos feature varie entre 0.33 et 115.244002"
   ]
  },
  {
   "cell_type": "code",
   "execution_count": 7,
   "id": "d854d55d",
   "metadata": {},
   "outputs": [
    {
     "name": "stdout",
     "output_type": "stream",
     "text": [
      "le nombre de valeur double est 0\n"
     ]
    }
   ],
   "source": [
    "# verifions notre dataset contient des valeurs doubles\n",
    "data_double=data.duplicated()\n",
    "print(\"le nombre de valeur double est\",data_double.sum())"
   ]
  },
  {
   "cell_type": "code",
   "execution_count": 8,
   "id": "60eb68fa",
   "metadata": {},
   "outputs": [
    {
     "data": {
      "image/png": "[encoded data removed]",
      "text/plain": [
       "<Figure size 1200x900 with 1 Axes>"
      ]
     },
     "metadata": {},
     "output_type": "display_data"
    }
   ],
   "source": [
    "#affichage des valeurs aberrantes\n",
    "fig = plt.figure(figsize = (12, 9))\n",
    "data.boxplot()\n",
    "plt.show()\n",
    "#presence de valeur aberrantes"
   ]
  },
  {
   "cell_type": "code",
   "execution_count": 9,
   "id": "6ce4da25",
   "metadata": {
    "scrolled": true
   },
   "outputs": [
    {
     "name": "stdout",
     "output_type": "stream",
     "text": [
      "la precision pour notre modele logistiregression  avec la presence des valeurs aberante est 0.7835497835497836\n"
     ]
    }
   ],
   "source": [
    "#affichons l accuracy de notre modele avec les aberantes\n",
    "#separation de nos donnees\n",
    "xTrain,xTest,yTrain,yTest=train_test_split(data.drop(\"Outcome\",axis=1),data[\"Outcome\"],test_size=0.3,random_state=0)\n",
    "\n",
    "classifier=LogisticRegression(random_state=0,solver='liblinear')\n",
    "# entrainement de notre modele\n",
    "classifier.fit(xTrain,yTrain)\n",
    "#prediction par notre modele\n",
    "y_pred=classifier.predict(xTest)\n",
    "\n",
    "acc = accuracy_score(yTest, y_pred)\n",
    "print(\"la precision pour notre modele logistiregression  avec la presence des valeurs aberante est\",acc)"
   ]
  },
  {
   "cell_type": "code",
   "execution_count": 10,
   "id": "af1d8c90",
   "metadata": {},
   "outputs": [],
   "source": [
    "#supprimons les valeurs aberantes\n",
    "def input_outlier(df,data):\n",
    "    ''' Detection '''\n",
    "    # IQR\n",
    "    Q1 = np.percentile(df[data], 25)\n",
    "    Q3 = np.percentile(df[data], 75)\n",
    "    IQR = Q3 - Q1\n",
    "    # Upper bound\n",
    "    \n",
    "    upper=Q3+1.5*IQR\n",
    "    # Lower bound\n",
    "    lower=Q1-1.5*IQR\n",
    "    df[data]=np.where(df[data] > upper, upper, np.where(df[data] < lower, lower, df[data]))"
   ]
  },
  {
   "cell_type": "code",
   "execution_count": 11,
   "id": "9ce222fa",
   "metadata": {
    "scrolled": true
   },
   "outputs": [],
   "source": [
    "# remplacer chaque valeurs aberrantes dans chaque colonne\n",
    "column1=['Pregnancies', 'Glucose', 'BloodPressure', 'SkinThickness', 'Insulin',\n",
    "       'BMI', 'DiabetesPedigreeFunction', 'Age']\n",
    "\n",
    "for i in range(len(column1)):\n",
    "    \n",
    "    input_outlier(data1,column1[i])\n",
    "    "
   ]
  },
  {
   "cell_type": "code",
   "execution_count": 12,
   "id": "0c7e96c5",
   "metadata": {},
   "outputs": [
    {
     "name": "stdout",
     "output_type": "stream",
     "text": [
      "la precision pour notre modele logistiregression  avec la presence des valeurs aberante est 0.7748917748917749\n"
     ]
    }
   ],
   "source": [
    "#affichons l accuracy de notre modele avec les aberantes\n",
    "#separation de nos donnees\n",
    "xTrain,xTest,yTrain,yTest=train_test_split(data1.drop(\"Outcome\",axis=1),data1[\"Outcome\"],test_size=0.3,random_state=0)\n",
    "\n",
    "classifier=LogisticRegression(random_state=0,solver='liblinear')\n",
    "# entrainement de notre modele\n",
    "classifier.fit(xTrain,yTrain)\n",
    "#prediction par notre modele\n",
    "y_pred=classifier.predict(xTest)\n",
    "\n",
    "acc = accuracy_score(yTest, y_pred)\n",
    "print(\"la precision pour notre modele logistiregression  avec la presence des valeurs aberante est\",acc)\n",
    "#la suppression des valeurs aberantes diminu la performance de notre modele"
   ]
  },
  {
   "cell_type": "code",
   "execution_count": 231,
   "id": "3e4ffe3b",
   "metadata": {},
   "outputs": [
    {
     "data": {
      "image/png": "[encoded data removed]",
      "text/plain": [
       "<Figure size 1200x900 with 1 Axes>"
      ]
     },
     "metadata": {},
     "output_type": "display_data"
    }
   ],
   "source": [
    "#verifions si nos valeurs aberrantes ont ete supprime\n",
    "fig = plt.figure(figsize = (12, 9))\n",
    "data1.boxplot(column=['Pregnancies', 'Glucose', 'BloodPressure', 'SkinThickness', 'Insulin','BMI', 'DiabetesPedigreeFunction', 'Age'])\n",
    "plt.show()\n",
    "#nos valeurs aberrantes ne sont plus presente\n"
   ]
  },
  {
   "cell_type": "code",
   "execution_count": 232,
   "id": "72ec27c4",
   "metadata": {},
   "outputs": [
    {
     "name": "stdout",
     "output_type": "stream",
     "text": [
      "la precision pour notre modele logistiregression  sans des valeurs aberante est 0.7748917748917749\n"
     ]
    }
   ],
   "source": [
    "#affichons l accuracy de notre modele sans  les aberantes\n",
    "#separation de nos donnees\n",
    "xTrain,xTest,yTrain,yTest=train_test_split(data1.drop(\"Outcome\",axis=1),data1[\"Outcome\"],test_size=0.3,random_state=0)\n",
    "\n",
    "classifier.fit(xTrain,yTrain)\n",
    "#prediction par notre modele\n",
    "y_pred=classifier.predict(xTest)\n",
    "\n",
    "acc = accuracy_score(yTest, y_pred)\n",
    "print(\"la precision pour notre modele logistiregression  sans des valeurs aberante est\",acc)\n",
    "#la suppression des valeurs aberantes diminu la performance de notre modele"
   ]
  },
  {
   "cell_type": "code",
   "execution_count": 233,
   "id": "19db5923",
   "metadata": {},
   "outputs": [
    {
     "data": {
      "image/png": "[encoded data removed]",
      "text/plain": [
       "<Figure size 640x480 with 2 Axes>"
      ]
     },
     "metadata": {},
     "output_type": "display_data"
    }
   ],
   "source": [
    "#verifions la correlation entre les variables independantes\n",
    "coorma=data.corr()\n",
    "sns.heatmap(coorma,annot=True)\n",
    "plt.show()\n",
    "#absence de correlation entre nos feature(observations)"
   ]
  },
  {
   "cell_type": "code",
   "execution_count": 268,
   "id": "102a1b83",
   "metadata": {},
   "outputs": [
    {
     "name": "stderr",
     "output_type": "stream",
     "text": [
      "[Parallel(n_jobs=1)]: Using backend SequentialBackend with 1 concurrent workers.\n",
      "[Parallel(n_jobs=1)]: Done   1 out of   1 | elapsed:    0.0s remaining:    0.0s\n",
      "[Parallel(n_jobs=1)]: Done   8 out of   8 | elapsed:    0.0s finished\n",
      "\n",
      "[2023-03-18 21:56:38] Features: 1/8 -- score: 0.7448688566335625[Parallel(n_jobs=1)]: Using backend SequentialBackend with 1 concurrent workers.\n",
      "[Parallel(n_jobs=1)]: Done   1 out of   1 | elapsed:    0.0s remaining:    0.0s\n",
      "[Parallel(n_jobs=1)]: Done   7 out of   7 | elapsed:    0.0s finished\n",
      "\n",
      "[2023-03-18 21:56:38] Features: 2/8 -- score: 0.7552245140480435[Parallel(n_jobs=1)]: Using backend SequentialBackend with 1 concurrent workers.\n",
      "[Parallel(n_jobs=1)]: Done   1 out of   1 | elapsed:    0.0s remaining:    0.0s\n",
      "[Parallel(n_jobs=1)]: Done   6 out of   6 | elapsed:    0.0s finished\n",
      "\n",
      "[2023-03-18 21:56:38] Features: 3/8 -- score: 0.7656650539003479[Parallel(n_jobs=1)]: Using backend SequentialBackend with 1 concurrent workers.\n",
      "[Parallel(n_jobs=1)]: Done   1 out of   1 | elapsed:    0.0s remaining:    0.0s\n",
      "[Parallel(n_jobs=1)]: Done   5 out of   5 | elapsed:    0.0s finished\n",
      "\n",
      "[2023-03-18 21:56:38] Features: 4/8 -- score: 0.7695781342840166[Parallel(n_jobs=1)]: Using backend SequentialBackend with 1 concurrent workers.\n",
      "[Parallel(n_jobs=1)]: Done   1 out of   1 | elapsed:    0.0s remaining:    0.0s\n",
      "[Parallel(n_jobs=1)]: Done   4 out of   4 | elapsed:    0.0s finished\n",
      "\n",
      "[2023-03-18 21:56:38] Features: 5/8 -- score: 0.7695696460402344[Parallel(n_jobs=1)]: Using backend SequentialBackend with 1 concurrent workers.\n",
      "[Parallel(n_jobs=1)]: Done   1 out of   1 | elapsed:    0.0s remaining:    0.0s\n",
      "[Parallel(n_jobs=1)]: Done   3 out of   3 | elapsed:    0.0s finished\n",
      "\n",
      "[2023-03-18 21:56:38] Features: 6/8 -- score: 0.7747899159663865[Parallel(n_jobs=1)]: Using backend SequentialBackend with 1 concurrent workers.\n",
      "[Parallel(n_jobs=1)]: Done   1 out of   1 | elapsed:    0.0s remaining:    0.0s\n",
      "[Parallel(n_jobs=1)]: Done   2 out of   2 | elapsed:    0.0s finished\n",
      "\n",
      "[2023-03-18 21:56:38] Features: 7/8 -- score: 0.7747814277226042[Parallel(n_jobs=1)]: Using backend SequentialBackend with 1 concurrent workers.\n",
      "[Parallel(n_jobs=1)]: Done   1 out of   1 | elapsed:    0.0s remaining:    0.0s\n",
      "[Parallel(n_jobs=1)]: Done   1 out of   1 | elapsed:    0.0s finished\n",
      "\n",
      "[2023-03-18 21:56:38] Features: 8/8 -- score: 0.7695781342840167"
     ]
    }
   ],
   "source": [
    "#petit analyse pour choisir nos feature\n",
    "\n",
    "\n",
    "sfs1 = sfs(classifier, k_features=8, forward=True, verbose=2, scoring='accuracy')\n",
    "sfs1 = sfs1.fit(data.drop(\"Outcome\",axis=1),data[\"Outcome\"])"
   ]
  },
  {
   "cell_type": "code",
   "execution_count": 260,
   "id": "5ffee5a4",
   "metadata": {},
   "outputs": [
    {
     "name": "stdout",
     "output_type": "stream",
     "text": [
      "les features selectionnees sont ['Pregnancies', 'Glucose', 'BloodPressure', 'Insulin', 'BMI', 'DiabetesPedigreeFunction']\n"
     ]
    }
   ],
   "source": [
    "print(\"les features selectionnees sont\",list(sfs1.k_feature_names_))"
   ]
  },
  {
   "cell_type": "code",
   "execution_count": 270,
   "id": "a949daa5",
   "metadata": {},
   "outputs": [],
   "source": [
    "#la nouvelle dataset obenu apres supressions de certains features\n",
    "data2=data.drop([\"Age\",'SkinThickness'],axis=1)\n"
   ]
  },
  {
   "cell_type": "code",
   "execution_count": 271,
   "id": "7bd890e8",
   "metadata": {
    "scrolled": false
   },
   "outputs": [
    {
     "name": "stdout",
     "output_type": "stream",
     "text": [
      "le pourcentage de personne qui ont le diabete 34.89583333333333\n",
      "le pourcentage de personne qui n ont pas le diabete 65.10416666666666\n"
     ]
    }
   ],
   "source": [
    "#verifions si notre dataset est desiquilibre\n",
    "#verifions si notre dataset est en desequilibre\n",
    "print(\"le pourcentage de personne qui ont le diabete\",(sum(data2['Outcome']==1)/len(data)*100))\n",
    "print(\"le pourcentage de personne qui n ont pas le diabete\",(sum(data2['Outcome']==0)/len(data)*100))\n",
    "#on constate que d` apres notre observation tous nos feature sont importantes"
   ]
  },
  {
   "cell_type": "code",
   "execution_count": 324,
   "id": "a85d0090",
   "metadata": {
    "scrolled": true
   },
   "outputs": [
    {
     "name": "stdout",
     "output_type": "stream",
     "text": [
      "la precision pour notre modele logistiregression  apres la suppression de certaine features est 0.7965367965367965\n"
     ]
    }
   ],
   "source": [
    "#affichons l accuracy de notre modele apres suppresssion des features non pertinentes\n",
    "#separation de nos donnees\n",
    "xTrain,xTest,yTrain,yTest=train_test_split(data2.drop(\"Outcome\",axis=1),data2[\"Outcome\"],test_size=0.3,random_state=0)\n",
    "\n",
    "#prediction par notre modele\n",
    "y_pred=classifier.predict(xTest)\n",
    "\n",
    "acc = accuracy_score(yTest, y_pred)\n",
    "print(\"la precision pour notre modele logistiregression  apres la suppression de certaine features est\",acc)\n",
    "#la suppression des valeurs aberantes diminu la performance de notre modele"
   ]
  },
  {
   "cell_type": "code",
   "execution_count": 285,
   "id": "17f825b7",
   "metadata": {},
   "outputs": [],
   "source": [
    "#choisissons  le meilleur modele\n",
    "model=[]\n",
    "dct=DecisionTreeClassifier(random_state=0)\n",
    "rdf=RandomForestClassifier(random_state=0)\n",
    "svp=svm.SVC(gamma=\"auto\")\n",
    "\n",
    "\n",
    "model.append(classifier)\n",
    "model.append(dct)\n",
    "model.append(rdf)\n",
    "model.append(svp)\n"
   ]
  },
  {
   "cell_type": "code",
   "execution_count": 286,
   "id": "899a9123",
   "metadata": {},
   "outputs": [
    {
     "name": "stdout",
     "output_type": "stream",
     "text": [
      "0.7922077922077922\n",
      "0.6796536796536796\n",
      "0.7489177489177489\n",
      "0.6796536796536796\n"
     ]
    }
   ],
   "source": [
    "for i in model:\n",
    "    i.fit(xTrain,yTrain)\n",
    "    print(i.score(xTest,yTest))\n",
    "#dont la logiticregression sera mieux pour notre dataset    "
   ]
  },
  {
   "cell_type": "code",
   "execution_count": 291,
   "id": "fe480b6f",
   "metadata": {
    "scrolled": false
   },
   "outputs": [
    {
     "name": "stdout",
     "output_type": "stream",
     "text": [
      "              precision    recall  f1-score   support\n",
      "\n",
      "           0       0.80      0.92      0.86       157\n",
      "           1       0.75      0.53      0.62        74\n",
      "\n",
      "    accuracy                           0.79       231\n",
      "   macro avg       0.78      0.72      0.74       231\n",
      "weighted avg       0.79      0.79      0.78       231\n",
      "\n",
      "la matrice de confusion est\n"
     ]
    },
    {
     "data": {
      "text/plain": [
       "array([[144,  13],\n",
       "       [ 35,  39]])"
      ]
     },
     "execution_count": 291,
     "metadata": {},
     "output_type": "execute_result"
    }
   ],
   "source": [
    "#affichons nos differents metrics\n",
    "print(classification_report(yTest,y_pred))\n",
    "\n",
    "print(\"la matrice de confusion est\")\n",
    "confusion_matrix(yTest,y_pred)"
   ]
  },
  {
   "cell_type": "markdown",
   "id": "25beda05",
   "metadata": {},
   "source": [
    "## appliquons undersampling"
   ]
  },
  {
   "cell_type": "code",
   "execution_count": 293,
   "id": "769b4f4d",
   "metadata": {
    "scrolled": false
   },
   "outputs": [
    {
     "name": "stdout",
     "output_type": "stream",
     "text": [
      "le nombre de personne qui ont le diabete avant l application de undersampling 194\n",
      "le nombre depersonne qui n ont pas le diabete avant l application de undersampling 343\n"
     ]
    }
   ],
   "source": [
    "print(\"le nombre de personne qui ont le diabete avant l application de undersampling\",sum(yTrain==1))\n",
    "print(\"le nombre depersonne qui n ont pas le diabete avant l application de undersampling\",sum(yTrain==0))"
   ]
  },
  {
   "cell_type": "code",
   "execution_count": 294,
   "id": "2b26c820",
   "metadata": {},
   "outputs": [],
   "source": [
    "# appliquons maintenant nearmiss pour faire le sous_echantillonage\n",
    "\n",
    "nr = NearMiss()\n",
    "xTrain_miss, yTrain_miss = nr.fit_resample(xTrain,  yTrain)"
   ]
  },
  {
   "cell_type": "code",
   "execution_count": 295,
   "id": "8fe6e6b0",
   "metadata": {},
   "outputs": [
    {
     "name": "stdout",
     "output_type": "stream",
     "text": [
      "le nombre de personne qui ont le diabete apres l application de undersampling 194\n",
      "le nombre depersonne qui n ont pas le diabete apres l application de undersampling 194\n"
     ]
    }
   ],
   "source": [
    "print(\"le nombre de personne qui ont le diabete apres l application de undersampling\",sum(yTrain_miss==1))\n",
    "print(\"le nombre depersonne qui n ont pas le diabete apres l application de undersampling\",sum(yTrain_miss==0))"
   ]
  },
  {
   "cell_type": "code",
   "execution_count": 296,
   "id": "121d7c82",
   "metadata": {},
   "outputs": [
    {
     "name": "stdout",
     "output_type": "stream",
     "text": [
      "la precision pour notre modele logistiregression apres le undersampling  est 0.7445887445887446\n"
     ]
    }
   ],
   "source": [
    "# entrainement de notre modele\n",
    "classifier.fit(xTrain_miss,yTrain_miss)\n",
    "#prediction par notre modele\n",
    "y_pred=classifier.predict(xTest)\n",
    "\n",
    "acc = accuracy_score(yTest, y_pred)\n",
    "print(\"la precision pour notre modele logistiregression apres le undersampling  est\",acc)\n",
    "# on constate que le undersampling n ameliore pas notre modele"
   ]
  },
  {
   "cell_type": "markdown",
   "id": "ddecb169",
   "metadata": {},
   "source": [
    "## appliquons  le oversampling"
   ]
  },
  {
   "cell_type": "code",
   "execution_count": 300,
   "id": "272f3a30",
   "metadata": {},
   "outputs": [
    {
     "name": "stdout",
     "output_type": "stream",
     "text": [
      "le mombre de personne qui ont le diabete avant avoir appliquer oversampling 194\n",
      "le mombre de personne qui n ont pas  le diabete avant avoir appliquer oversampling 343\n"
     ]
    }
   ],
   "source": [
    "print(\"le mombre de personne qui ont le diabete avant avoir appliquer oversampling\",sum(yTrain==1))\n",
    "print(\"le mombre de personne qui n ont pas  le diabete avant avoir appliquer oversampling\",sum(yTrain==0))"
   ]
  },
  {
   "cell_type": "code",
   "execution_count": 298,
   "id": "fe6b4092",
   "metadata": {},
   "outputs": [],
   "source": [
    "#appliquons le oversampling\n",
    "ros = RandomOverSampler(random_state=0)\n",
    "xTraino, ytraino= ros.fit_resample(xTrain, yTrain)\n",
    "\n",
    "\n"
   ]
  },
  {
   "cell_type": "code",
   "execution_count": 301,
   "id": "aef9bf6e",
   "metadata": {},
   "outputs": [
    {
     "name": "stdout",
     "output_type": "stream",
     "text": [
      "le mombre de personne qui ont le diabete apres avoir appliquer oversampling 343\n",
      "le mombre de personne qui n ont pas  le diabete apres avoir appliquer oversampling 343\n"
     ]
    }
   ],
   "source": [
    "print(\"le mombre de personne qui ont le diabete apres avoir appliquer oversampling\",sum(ytraino==1))\n",
    "print(\"le mombre de personne qui n ont pas  le diabete apres avoir appliquer oversampling\",sum(ytraino==0))"
   ]
  },
  {
   "cell_type": "code",
   "execution_count": 302,
   "id": "bfc7e8fb",
   "metadata": {},
   "outputs": [
    {
     "name": "stdout",
     "output_type": "stream",
     "text": [
      "la precision pour notre modele logistiregression est 0.7748917748917749\n"
     ]
    }
   ],
   "source": [
    "# entrainement de notre modele\n",
    "classifier.fit(xTraino,ytraino)\n",
    "#prediction par notre modele\n",
    "y_pred=classifier.predict(xTest)\n",
    "\n",
    "acc = accuracy_score(yTest, y_pred)\n",
    "print(\"la precision pour notre modele logistiregression est\",acc)\n",
    "\n",
    "# oversampling n ameliore pas les performance de mon modele"
   ]
  },
  {
   "cell_type": "code",
   "execution_count": 331,
   "id": "ef0d617a",
   "metadata": {},
   "outputs": [
    {
     "name": "stdout",
     "output_type": "stream",
     "text": [
      "le best_score est 0.7653738644304683 le best_params est {'C': 2, 'random_state': 0}\n"
     ]
    },
    {
     "name": "stderr",
     "output_type": "stream",
     "text": [
      "/home/francis/anaconda3/lib/python3.9/site-packages/sklearn/model_selection/_validation.py:372: FitFailedWarning: \n",
      "300 fits failed out of a total of 30000.\n",
      "The score on these train-test partitions for these parameters will be set to nan.\n",
      "If these failures are not expected, you can try to debug them by setting error_score='raise'.\n",
      "\n",
      "Below are more details about the failures:\n",
      "--------------------------------------------------------------------------------\n",
      "300 fits failed with the following error:\n",
      "Traceback (most recent call last):\n",
      "  File \"/home/francis/anaconda3/lib/python3.9/site-packages/sklearn/model_selection/_validation.py\", line 680, in _fit_and_score\n",
      "    estimator.fit(X_train, y_train, **fit_params)\n",
      "  File \"/home/francis/anaconda3/lib/python3.9/site-packages/sklearn/linear_model/_logistic.py\", line 1528, in fit\n",
      "    self.coef_, self.intercept_, n_iter_ = _fit_liblinear(\n",
      "  File \"/home/francis/anaconda3/lib/python3.9/site-packages/sklearn/svm/_base.py\", line 1186, in _fit_liblinear\n",
      "    raw_coef_, n_iter_ = liblinear.train_wrap(\n",
      "  File \"sklearn/svm/_liblinear.pyx\", line 52, in sklearn.svm._liblinear.train_wrap\n",
      "ValueError: b'C <= 0'\n",
      "\n",
      "  warnings.warn(some_fits_failed_message, FitFailedWarning)\n",
      "/home/francis/anaconda3/lib/python3.9/site-packages/sklearn/model_selection/_search.py:969: UserWarning: One or more of the test scores are non-finite: [       nan        nan        nan ... 0.75604472 0.75604472 0.75604472]\n",
      "  warnings.warn(\n"
     ]
    }
   ],
   "source": [
    "## appliquons gridsearchcv pour choisir le bon parametre qui optimise notre modele\n",
    "classifier.get_params()\n",
    "clf= GridSearchCV(classifier,{\"C\":[i for i in range(100)],'random_state':[i for i in range(30)]},cv=10,return_train_score=False)\n",
    "clf.fit(xTrain,yTrain)\n",
    "print(\"le best_score est\",clf.best_score_,\"le best_params est\",clf.best_params_)"
   ]
  },
  {
   "cell_type": "code",
   "execution_count": 330,
   "id": "3a3bb0c9",
   "metadata": {},
   "outputs": [
    {
     "data": {
      "text/plain": [
       "0.7965367965367965"
      ]
     },
     "execution_count": 330,
     "metadata": {},
     "output_type": "execute_result"
    }
   ],
   "source": [
    "classifier1=classifier=LogisticRegression(random_state=0,solver='liblinear',C=2)\n",
    "classifier1.fit(xTrain,yTrain)\n",
    "classifier1.score(xTest,yTest)"
   ]
  },
  {
   "cell_type": "code",
   "execution_count": null,
   "id": "0064aec0",
   "metadata": {},
   "outputs": [],
   "source": []
  },
  {
   "cell_type": "code",
   "execution_count": 247,
   "id": "57c1c7e8",
   "metadata": {},
   "outputs": [],
   "source": []
  },
  {
   "cell_type": "code",
   "execution_count": null,
   "id": "43aa942e",
   "metadata": {},
   "outputs": [],
   "source": []
  },
  {
   "cell_type": "markdown",
   "id": "eed44d59",
   "metadata": {},
   "source": []
  },
  {
   "cell_type": "code",
   "execution_count": null,
   "id": "b43c3b9b",
   "metadata": {
    "scrolled": true
   },
   "outputs": [],
   "source": []
  },
  {
   "cell_type": "code",
   "execution_count": null,
   "id": "e5520034",
   "metadata": {},
   "outputs": [],
   "source": []
  },
  {
   "cell_type": "code",
   "execution_count": 251,
   "id": "62e2316a",
   "metadata": {},
   "outputs": [],
   "source": []
  },
  {
   "cell_type": "markdown",
   "id": "e3cf00c6",
   "metadata": {},
   "source": []
  },
  {
   "cell_type": "code",
   "execution_count": 252,
   "id": "c58ed12f",
   "metadata": {},
   "outputs": [],
   "source": []
  },
  {
   "cell_type": "code",
   "execution_count": null,
   "id": "2b5fb095",
   "metadata": {},
   "outputs": [],
   "source": []
  },
  {
   "cell_type": "code",
   "execution_count": null,
   "id": "d45b78c7",
   "metadata": {},
   "outputs": [],
   "source": []
  },
  {
   "cell_type": "code",
   "execution_count": 255,
   "id": "639ce384",
   "metadata": {},
   "outputs": [],
   "source": []
  },
  {
   "cell_type": "code",
   "execution_count": null,
   "id": "bb34f055",
   "metadata": {},
   "outputs": [],
   "source": []
  }
 ],
 "metadata": {
  "kernelspec": {
   "display_name": "Python 3 (ipykernel)",
   "language": "python",
   "name": "python3"
  },
  "language_info": {
   "codemirror_mode": {
    "name": "ipython",
    "version": 3
   },
   "file_extension": ".py",
   "mimetype": "text/x-python",
   "name": "python",
   "nbconvert_exporter": "python",
   "pygments_lexer": "ipython3",
   "version": "3.9.13"
  }
 },
 "nbformat": 4,
 "nbformat_minor": 5
}
